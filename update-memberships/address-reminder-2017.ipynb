{
 "cells": [
  {
   "cell_type": "code",
   "execution_count": 1,
   "metadata": {
    "collapsed": true
   },
   "outputs": [],
   "source": [
    "import json\n",
    "import sqlalchemy\n",
    "import pandas as pd\n",
    "import boto3\n",
    "import time\n",
    "import numpy as np"
   ]
  },
  {
   "cell_type": "code",
   "execution_count": 2,
   "metadata": {
    "collapsed": true
   },
   "outputs": [],
   "source": [
    "pd.options.display.max_columns = 999"
   ]
  },
  {
   "cell_type": "code",
   "execution_count": 3,
   "metadata": {
    "collapsed": true
   },
   "outputs": [],
   "source": [
    "config = json.load(open('../config/config.json', 'r'))\n",
    "db = config['db']\n",
    "conn_template = 'mysql+pymysql://{}:{}@{}:{}/{}'\n",
    "connstr = conn_template.format(db['username'], db['password'], db['host'], db['port'], db['dbname'])\n",
    "e = sqlalchemy.create_engine(connstr)"
   ]
  },
  {
   "cell_type": "code",
   "execution_count": 4,
   "metadata": {
    "collapsed": true
   },
   "outputs": [],
   "source": [
    "query = \"\"\"\n",
    "select t2.*, t1.address_line1, t1.shipping_city, t1.shipping_state, t1.shipping_postal_code, t1.shipping_country\n",
    "from paypal_payments t1\n",
    "join (\n",
    "\tselect email, first_name, lastname\n",
    "\t , max(create_time) as latest\n",
    "\t , min(create_time) as since\n",
    "\t , max(total) as total\n",
    "\t , max(id) as id\n",
    "\tfrom paypal_payments\n",
    "\tgroup by email, first_name, lastname\n",
    ") t2\n",
    "on t1.id = t2.id\n",
    "\"\"\"\n",
    "pp = pd.read_sql(query, e)"
   ]
  },
  {
   "cell_type": "code",
   "execution_count": 7,
   "metadata": {
    "collapsed": true
   },
   "outputs": [],
   "source": [
    "query = \"\"\"\n",
    "SELECT *\n",
    "FROM stripe_subscribers\n",
    "\"\"\"\n",
    "st = pd.read_sql(query, e)"
   ]
  },
  {
   "cell_type": "code",
   "execution_count": 8,
   "metadata": {
    "collapsed": true
   },
   "outputs": [],
   "source": [
    "import stripe\n",
    "config = json.load(open('../config/config.json', 'r'))\n",
    "db = config['db']\n",
    "conn_template = 'mysql+pymysql://{}:{}@{}:{}/{}'\n",
    "connstr = conn_template.format(db['username'], db['password'], db['host'], db['port'], db['dbname'])\n",
    "e = sqlalchemy.create_engine(connstr)\n",
    "stripe.api_key = config['stripe_id']"
   ]
  },
  {
   "cell_type": "code",
   "execution_count": 9,
   "metadata": {
    "collapsed": true
   },
   "outputs": [],
   "source": [
    "client = boto3.client('dynamodb')"
   ]
  },
  {
   "cell_type": "code",
   "execution_count": 10,
   "metadata": {
    "collapsed": true
   },
   "outputs": [],
   "source": [
    "response = client.scan(TableName='orders')"
   ]
  },
  {
   "cell_type": "code",
   "execution_count": 11,
   "metadata": {
    "collapsed": true
   },
   "outputs": [],
   "source": [
    "items = response['Items']"
   ]
  },
  {
   "cell_type": "code",
   "execution_count": 12,
   "metadata": {
    "collapsed": true
   },
   "outputs": [],
   "source": [
    "customers = {}\n",
    "for item in items:\n",
    "    customer = item['customer']['M']\n",
    "    line1 = customer['street_1']['S']\n",
    "    if 'street_2' in customer:\n",
    "        line2 = customer['street_2']['S']\n",
    "    else:\n",
    "        line2 = ''\n",
    "    city = customer['city']['S']\n",
    "    state = customer['state']['S']\n",
    "    first_name = customer['first_name']['S']\n",
    "    last_name = customer['last_name']['S']\n",
    "    email = customer['email']['S']\n",
    "    postal = customer['zip']['S']\n",
    "    c = {'line1': line1, 'line2': line2, 'city': city, 'state': state, 'first_name': first_name, 'last_name': last_name, 'email': email, 'postal': postal}\n",
    "    customers[email] = c"
   ]
  },
  {
   "cell_type": "code",
   "execution_count": 13,
   "metadata": {},
   "outputs": [
    {
     "name": "stderr",
     "output_type": "stream",
     "text": [
      "/usr/local/lib/python3.5/site-packages/ipykernel_launcher.py:10: FutureWarning: set_value is deprecated and will be removed in a future release. Please use .at[] or .iat[] accessors instead\n",
      "  # Remove the CWD from sys.path while we load stuff.\n"
     ]
    }
   ],
   "source": [
    "cols = ['line1', 'line2', 'city', 'state', 'first_name', 'last_name', 'email', 'postal', 'first_name', 'last_name']\n",
    "for r in range(st.shape[0]):\n",
    "    row = st.iloc[r]\n",
    "    idx = st.index[r]\n",
    "    email = row['email']\n",
    "    if email in customers:\n",
    "        customer = customers[email]\n",
    "        for col in cols:\n",
    "            value = customer[col]\n",
    "            st.set_value(idx, col, value, takeable=False)\n",
    "    else:\n",
    "        print(\"Could not find \" + email)"
   ]
  },
  {
   "cell_type": "code",
   "execution_count": 14,
   "metadata": {
    "collapsed": true
   },
   "outputs": [],
   "source": [
    "# TODO: update Stripe customers with this data"
   ]
  },
  {
   "cell_type": "code",
   "execution_count": 15,
   "metadata": {
    "collapsed": true
   },
   "outputs": [],
   "source": [
    "st.rename(columns={'line1':'address_line1','line2':'address_line2', 'city':'shipping_city', 'state':'shipping_state', 'postal':'shipping_postal_code', 'country':'shipping_country'}, inplace=True)"
   ]
  },
  {
   "cell_type": "code",
   "execution_count": 16,
   "metadata": {
    "collapsed": true
   },
   "outputs": [],
   "source": [
    "pp.rename(columns={'lastname':'last_name'}, inplace=True)"
   ]
  },
  {
   "cell_type": "code",
   "execution_count": 17,
   "metadata": {
    "collapsed": true
   },
   "outputs": [],
   "source": [
    "pp['address_line2'] = ''"
   ]
  },
  {
   "cell_type": "code",
   "execution_count": 18,
   "metadata": {
    "collapsed": true
   },
   "outputs": [],
   "source": [
    "cols = ['first_name', 'last_name', 'email', 'address_line1', 'address_line2', 'shipping_city', 'shipping_state', 'shipping_postal_code', 'shipping_country']"
   ]
  },
  {
   "cell_type": "code",
   "execution_count": 19,
   "metadata": {
    "collapsed": true
   },
   "outputs": [],
   "source": [
    "df = pd.concat([pp[cols], st[cols]])\n",
    "df.index = np.arange(df.shape[0])"
   ]
  },
  {
   "cell_type": "code",
   "execution_count": 20,
   "metadata": {
    "collapsed": true
   },
   "outputs": [],
   "source": [
    "df['country'] = df['shipping_country'].apply(lambda x: '' if x=='US' else x)"
   ]
  },
  {
   "cell_type": "code",
   "execution_count": 22,
   "metadata": {
    "collapsed": true
   },
   "outputs": [],
   "source": [
    "df.to_csv('membership.csv', sep='\\t')"
   ]
  },
  {
   "cell_type": "code",
   "execution_count": 36,
   "metadata": {
    "collapsed": true
   },
   "outputs": [],
   "source": [
    "formatted = []\n",
    "for r in range(df.shape[0]):\n",
    "    row = df.iloc[r]\n",
    "    first_name = row['first_name']\n",
    "    last_name = row['last_name']\n",
    "    address_line1 = row['address_line1']\n",
    "    shipping_city = row['shipping_city']\n",
    "    shipping_state = row['shipping_state']\n",
    "    shipping_postal_code = row['shipping_postal_code']\n",
    "    country = row['country']\n",
    "    tpl = \"\"\"<td>{first_name} {last_name}<br/>\n",
    "{address_line1}<br/>\n",
    "{shipping_city}, {shipping_state} {shipping_postal_code}<br/>\n",
    "{country}</td>\n",
    "\"\"\".format(first_name=first_name, last_name=last_name, address_line1=address_line1, shipping_city=shipping_city, shipping_state=shipping_state, shipping_postal_code=shipping_postal_code, country=country, email=email)\n",
    "    formatted.append(tpl)\n",
    "\n",
    "i = 0\n",
    "bdy = \"<table>\"\n",
    "while i < len(formatted):\n",
    "    tpl = formatted[i]\n",
    "    if i % 1 == 0:\n",
    "        if i > 0:\n",
    "            bdy += \"</tr>\"\n",
    "        bdy += \"<tr>\"        \n",
    "    bdy += tpl\n",
    "    if i % 3 != 2:\n",
    "        bdy += \"<td><td/>\"\n",
    "    i += 1\n",
    "\n",
    "if i % 3 != 1:\n",
    "    bdy += \"</tr>\"\n",
    "bdy += \"</table>\"\n",
    "\n",
    "f = open('table2.htm', 'w')\n",
    "f.write(bdy)\n",
    "f.close()"
   ]
  },
  {
   "cell_type": "code",
   "execution_count": null,
   "metadata": {
    "collapsed": true
   },
   "outputs": [],
   "source": []
  },
  {
   "cell_type": "code",
   "execution_count": 106,
   "metadata": {
    "collapsed": true
   },
   "outputs": [],
   "source": [
    "tpl = \"\"\"\n",
    "<p>Hi {first_name},</p>\n",
    "\n",
    "<p>We appreciate for your support of Data Skeptic.  We're planning to send something small to you via the US Postal Service.  Below is the address we intend to use.  If this is wrong in any way or will not reach you, simply reply by Dec 20th and we'll get our records updated.</p>\n",
    "\n",
    "<p>If the address below is correct, and you wouldn't mind a quick confirmation reply, we'd appreciate that too!</p>\n",
    "\n",
    "<p><b>Address on file:</b></p>\n",
    "{first_name} {last_name}<br/>\n",
    "{address_line1}<br/>\n",
    "{shipping_city}, {shipping_state} {shipping_postal_code}<br/>\n",
    "{country}<br/>\n",
    "\n",
    "<p>Thanks!</p>\n",
    "\n",
    "<p>Kyle & the Data Skeptic team</p>\n",
    "\"\"\""
   ]
  },
  {
   "cell_type": "code",
   "execution_count": 118,
   "metadata": {
    "collapsed": true
   },
   "outputs": [],
   "source": [
    "responses = {}"
   ]
  },
  {
   "cell_type": "code",
   "execution_count": 113,
   "metadata": {
    "collapsed": true
   },
   "outputs": [],
   "source": [
    "client = boto3.client('ses')"
   ]
  },
  {
   "cell_type": "code",
   "execution_count": null,
   "metadata": {
    "collapsed": true
   },
   "outputs": [],
   "source": [
    "CHARSET = \"UTF-8\"\n",
    "\n",
    "for r in range(df.shape[0]):\n",
    "    row = df.iloc[r]\n",
    "    first_name = row['first_name']\n",
    "    last_name = row['last_name']\n",
    "    address_line1 = row['address_line1']\n",
    "    shipping_city = row['shipping_city']\n",
    "    shipping_state = row['shipping_state']\n",
    "    shipping_postal_code = row['shipping_postal_code']\n",
    "    country = row['country']\n",
    "    bdy = tpl.format(first_name=first_name, last_name=last_name, address_line1=address_line1, shipping_city=shipping_city, shipping_state=shipping_state, shipping_postal_code=shipping_postal_code, country=country)\n",
    "    to = row['email']\n",
    "    if to not in responses:        \n",
    "        print(to, first_name, last_name, bdy[0:100])\n",
    "        response = client.send_email(\n",
    "            Destination={\n",
    "                'ToAddresses': [\n",
    "                    to,\n",
    "                ],\n",
    "            },\n",
    "            Message={\n",
    "                'Body': {\n",
    "                    'Html': {\n",
    "                        'Charset': CHARSET,\n",
    "                        'Data': bdy,\n",
    "                    }\n",
    "                },\n",
    "                'Subject': {\n",
    "                    'Charset': CHARSET,\n",
    "                    'Data': 'Data Skeptic mailing address confirmation',\n",
    "                },\n",
    "            },\n",
    "            Source='kyle@dataskeptic.com'\n",
    "        )\n",
    "        responses[to] = response\n",
    "        time.sleep(1)\n"
   ]
  },
  {
   "cell_type": "code",
   "execution_count": null,
   "metadata": {
    "collapsed": true
   },
   "outputs": [],
   "source": [
    "for r in range(df.shape[0]):\n",
    "    row = df.iloc[r]\n",
    "    first_name = row['first_name']\n",
    "    last_name = row['last_name']\n",
    "    address_line1 = row['address_line1']\n",
    "    shipping_city = row['shipping_city']\n",
    "    shipping_state = row['shipping_state']\n",
    "    shipping_postal_code = row['shipping_postal_code']\n",
    "    country = row['country']\n",
    "    email = row['email']\n",
    "    tpl = \"\"\"{first_name} {last_name}\n",
    "{address_line1}\n",
    "{shipping_city}, {shipping_state} {shipping_postal_code}\n",
    "{country}\n",
    "{email}\n",
    "\"\"\".format(first_name=first_name, last_name=last_name, address_line1=address_line1, shipping_city=shipping_city, shipping_state=shipping_state, shipping_postal_code=shipping_postal_code, country=country, email=email)\n",
    "    #print(tpl)\n",
    "    #print(\"---------------------------------\")"
   ]
  }
 ],
 "metadata": {
  "kernelspec": {
   "display_name": "Python 3",
   "language": "python",
   "name": "python3"
  },
  "language_info": {
   "codemirror_mode": {
    "name": "ipython",
    "version": 3
   },
   "file_extension": ".py",
   "mimetype": "text/x-python",
   "name": "python",
   "nbconvert_exporter": "python",
   "pygments_lexer": "ipython3",
   "version": "3.5.2"
  }
 },
 "nbformat": 4,
 "nbformat_minor": 2
}
